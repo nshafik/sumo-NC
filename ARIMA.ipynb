{
 "cells": [
  {
   "cell_type": "code",
   "execution_count": null,
   "id": "a87d2775",
   "metadata": {},
   "outputs": [],
   "source": [
    "import pandas as pd\n",
    "import numpy as np\n",
    "import os\n",
    "import typing\n",
    "import matplotlib.pyplot as plt\n",
    "import time\n",
    "\n",
    "from sklearn.preprocessing import MinMaxScaler\n",
    "from statsmodels.tsa.arima.model import ARIMA\n",
    "from statsmodels.tsa.statespace.sarimax import SARIMAX\n",
    "from sklearn.metrics import mean_squared_error\n",
    "from math import sqrt"
   ]
  },
  {
   "cell_type": "code",
   "execution_count": null,
   "id": "3f05d953",
   "metadata": {},
   "outputs": [],
   "source": [
    "#Smooth curve\n",
    "def smooth(y, box_pts):\n",
    "    box = np.ones(box_pts)/box_pts\n",
    " \n",
    "    \n",
    "    \n",
    "    y_smooth=np.convolve(y, box, \n",
    "                           mode='valid'\n",
    "                          )\n",
    "   \n",
    "    return y_smooth"
   ]
  },
  {
   "cell_type": "code",
   "execution_count": null,
   "id": "e7e7e550",
   "metadata": {},
   "outputs": [],
   "source": [
    "def train_test_split(dataset, ratio):\n",
    "    scaler = MinMaxScaler()\n",
    "\n",
    "    \n",
    "    train_size = int(len(dataset) * ratio)\n",
    "    test_size = len(dataset) - train_size\n",
    "\n",
    "    train  = dataset[0:train_size]\n",
    "    test   = dataset[train_size:]\n",
    "    return train,test"
   ]
  },
  {
   "cell_type": "code",
   "execution_count": null,
   "id": "1773582e",
   "metadata": {},
   "outputs": [],
   "source": [
    "def graph_predictions_sarima_append_dontfit(dataset,ratio,step=1,ordd=(5,1,0),Sorder=(5,1,0,45),smooth_flag=0):\n",
    "    \n",
    "    #try using SARIMA, change modelling options method conv and low memory \n",
    "    print(\"parameters:\", ordd)\n",
    "    print(\"seasonal parameters:\", Sorder)\n",
    "    \n",
    "    plt.figure(figsize=(30,15))\n",
    "    start = time.time()\n",
    "    train,test = train_test_split(dataset,ratio)\n",
    "    history = [x for x in train]\n",
    "    predictions = list()\n",
    "    # predictions=[x for x in train] #the prediction starts of lagged from history..\n",
    "    # walk-forward validation\n",
    "#     print(\"starting loop\")\n",
    "    model = ARIMA(history, order=ordd,seasonal_order=Sorder)\n",
    "#         print(\"itareation #\",t/step, \"pre model.fit\")\n",
    "    print(\"start training\")\n",
    "    \n",
    "#     model_fit = model.fit()#(method='innovations_mle', low_memory=True, cov_type='none')\n",
    "    model_fit = model.fit(method='statespace', low_memory=True, cov_type='none')\n",
    "#     model_fit = model.fit(cov_type='robust_approx')\n",
    "    print(\"start predicting\")\n",
    "    output = model_fit.forecast(len(test))\n",
    "\n",
    "\n",
    "\n",
    "    predictions.extend(output)\n",
    "\n",
    "\n",
    "    plt.plot(test)\n",
    "    # plt.plot(train)\n",
    "    # plt.plot(dataset)\n",
    "    # print(len(dataset))\n",
    "    print(\"test: \", len(test))\n",
    "    print(\"predictions: \", len(predictions))\n",
    "    if smooth_flag:\n",
    "        predictions_ma=[]\n",
    "        predictions_ma.append(smooth(predictions,30))\n",
    "        plt.plot(predictions_ma[0], color='red')\n",
    "    \n",
    "    else: \n",
    "        plt.plot(predictions, color='red')\n",
    "    # plt.plot(, color='blu')\n",
    "    plt.grid()\n",
    "    plt.ylim([20,65])\n",
    "    \n",
    "    try:\n",
    "        MSE = mean_squared_error(test,predictions)\n",
    "        RMSE = sqrt(MSE)\n",
    "        print(\"mean squared error= \",MSE)\n",
    "    \n",
    "        print(\"RMSE= \" ,RMSE)\n",
    "    except:\n",
    "        print(\"error calculating, mismatch in dimentions\")\n",
    "        ...\n",
    "    \n",
    "    end = time.time()\n",
    "    print(\"time taken: \",end - start)\n",
    "#     plt.rcParams['figure.figsize'] = [1000/2.54, 800/2.54]\n",
    "    plt.show()\n",
    "    # print(len(predictions))\n",
    "\n",
    "    \n",
    "    # print(predictions_ma)\n",
    "\n",
    "    # return predictions\n",
    "    return predictions, test, RMSE,ordd,Sorder,model_fit;\n"
   ]
  },
  {
   "cell_type": "code",
   "execution_count": null,
   "id": "175b7000",
   "metadata": {},
   "outputs": [],
   "source": []
  },
  {
   "cell_type": "code",
   "execution_count": null,
   "id": "000bbbc5",
   "metadata": {},
   "outputs": [],
   "source": [
    "ds = pd.DataFrame()\n",
    "PTR=[]\n",
    "\"\"\"\n",
    "\"\"\"\n",
    "number_of_days = 0\n",
    "for file_name in os.listdir():\n",
    "\n",
    "    try:\n",
    "#         print(file_name)\n",
    "        temp = pd.read_csv( file_name, index_col='dateandtime',parse_dates=True)\n",
    "        ds = ds.append(temp)\n",
    "        number_of_hours+=1\n",
    "    except:\n",
    "        ...\n",
    "number_of_days= number_of_hours/25"
   ]
  },
  {
   "cell_type": "code",
   "execution_count": null,
   "id": "2beb50df",
   "metadata": {},
   "outputs": [],
   "source": [
    "temp = pd.pivot_table(ds,index = 'dateandtime', values ='spdK/m' , columns ='edge')\n",
    "\n",
    "temp = temp.groupby([\n",
    "            pd.Grouper(level='dateandtime'\n",
    "                       , freq = '16T'  \n",
    "                      )]\n",
    "          ).mean()\n"
   ]
  },
  {
   "cell_type": "code",
   "execution_count": null,
   "id": "f8da64e7",
   "metadata": {},
   "outputs": [],
   "source": [
    "periodicity= int(len(smoothed_df[0])/int(number_of_days))"
   ]
  },
  {
   "cell_type": "code",
   "execution_count": null,
   "id": "310d5509",
   "metadata": {},
   "outputs": [],
   "source": [
    "limitPer = len(temp) *0.20\n",
    "temp = temp.dropna(thresh=limitPer, axis=1)\n",
    "temp.count()"
   ]
  },
  {
   "cell_type": "code",
   "execution_count": null,
   "id": "481238bf",
   "metadata": {},
   "outputs": [],
   "source": [
    "df = temp.fillna(temp.max())"
   ]
  },
  {
   "cell_type": "code",
   "execution_count": null,
   "id": "f68312c7",
   "metadata": {},
   "outputs": [],
   "source": [
    "df = df.loc[:, (temp != 0).any(axis=0)]"
   ]
  },
  {
   "cell_type": "code",
   "execution_count": null,
   "id": "aeabaf7b",
   "metadata": {},
   "outputs": [],
   "source": [
    "smoothed_df = []\n",
    "for cntrDf in range(0, df.shape[-1]):\n",
    "    \n",
    "    smoothed_df.append((df.values[:,cntrDf]))\n",
    "\n"
   ]
  },
  {
   "cell_type": "code",
   "execution_count": null,
   "id": "af7445ee",
   "metadata": {},
   "outputs": [],
   "source": [
    "plt.rcParams[\"figure.figsize\"] = (30,15)\n",
    "# plt.plot(smooth(df.values[:,0],40), 'r-', lw=2)\n",
    "plt.plot(smoothed_df[0], 'b-', lw=2)\n",
    "plt.ylim([0 , 90])\n",
    "plt.grid()\n"
   ]
  },
  {
   "cell_type": "code",
   "execution_count": null,
   "id": "224677ba",
   "metadata": {},
   "outputs": [],
   "source": []
  },
  {
   "cell_type": "code",
   "execution_count": null,
   "id": "e5096d86",
   "metadata": {},
   "outputs": [],
   "source": [
    "PTR.append(graph_predictions_sarima_append_dontfit(smoothed_df[0],0.7,3,(5, 0, 1) ,(3, 0, 1, periodicity), 0))#16T#remove optmization? "
   ]
  }
 ],
 "metadata": {
  "kernelspec": {
   "display_name": "Python 3 (ipykernel)",
   "language": "python",
   "name": "python3"
  },
  "language_info": {
   "codemirror_mode": {
    "name": "ipython",
    "version": 3
   },
   "file_extension": ".py",
   "mimetype": "text/x-python",
   "name": "python",
   "nbconvert_exporter": "python",
   "pygments_lexer": "ipython3",
   "version": "3.9.7"
  }
 },
 "nbformat": 4,
 "nbformat_minor": 5
}
